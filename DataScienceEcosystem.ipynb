{
 "cells": [
  {
   "cell_type": "markdown",
   "id": "9ddbb339-762b-406c-9fe2-4781e9e393c1",
   "metadata": {},
   "source": [
    "# Data Science Tools and Ecosystem"
   ]
  },
  {
   "cell_type": "markdown",
   "id": "23ddf370-e52d-491b-8696-15616ca18128",
   "metadata": {},
   "source": [
    "In this notebook, Data Science Tools and Ecosystem are summarized."
   ]
  },
  {
   "cell_type": "markdown",
   "id": "8b529a54-c7d9-4271-a1d8-d7f3051f8229",
   "metadata": {},
   "source": [
    "**Objectives:**\n",
    "- List popular languages for Data Science\n",
    "- Introduce commonly used libraries in Data Science\n",
    "- Discuss data preprocessing and cleaning techniques\n",
    "- Introduce statistical analysis methods"
   ]
  },
  {
   "cell_type": "markdown",
   "id": "7b3b73fa-3b35-4034-889f-1b9d5674b58c",
   "metadata": {},
   "source": [
    "Some of the popular languages that Data Scientists use are:\n",
    "1. Python\n",
    "2. R\n",
    "3. SQL"
   ]
  },
  {
   "cell_type": "markdown",
   "id": "0a6dd4a1-11f9-4411-bcd5-2707f464bdcf",
   "metadata": {},
   "source": [
    "Some of the commonly used libraries used by Data Scientists include:\n",
    "1. Pandas\n",
    "2. NumPy\n",
    "3. Scikit-learn"
   ]
  },
  {
   "cell_type": "markdown",
   "id": "b09a3e8d-4632-4755-ae0e-e4662399d99a",
   "metadata": {},
   "source": [
    "| Data Science Tools |\n",
    "| ----------------- |\n",
    "| Jupyter Notebook | \n",
    "| Spyder |\n",
    "| RStudio | "
   ]
  },
  {
   "cell_type": "markdown",
   "id": "5b8f976f-dbe3-4f27-9ed2-03c2a3ddbe17",
   "metadata": {},
   "source": [
    "### Below are a few examples of evaluating arithmetic expressions in Python"
   ]
  },
  {
   "cell_type": "code",
   "execution_count": 3,
   "id": "59906634-b2ee-41a8-9b23-b4abbe6ba21f",
   "metadata": {},
   "outputs": [
    {
     "data": {
      "text/plain": [
       "17"
      ]
     },
     "execution_count": 3,
     "metadata": {},
     "output_type": "execute_result"
    }
   ],
   "source": [
    "#This a simple arithmetic expression to mutiply then add integers\n",
    "(3*4)+5\n"
   ]
  },
  {
   "cell_type": "code",
   "execution_count": 16,
   "id": "f628ba02-eabd-4089-8e34-280051114287",
   "metadata": {},
   "outputs": [
    {
     "data": {
      "text/plain": [
       "3.3333333333333335"
      ]
     },
     "execution_count": 16,
     "metadata": {},
     "output_type": "execute_result"
    }
   ],
   "source": [
    "#This will convert 200 minutes to hours by diving by 60\n",
    "200/60\n"
   ]
  },
  {
   "cell_type": "markdown",
   "id": "4cb05089-9393-41b4-b60a-f92555a8fcdb",
   "metadata": {},
   "source": [
    "## Author\n",
    "Cuș Cătălin-Alexandru"
   ]
  },
  {
   "cell_type": "code",
   "execution_count": null,
   "id": "5b69b8b9-ba4b-4f14-a268-27b357b5953c",
   "metadata": {},
   "outputs": [],
   "source": []
  }
 ],
 "metadata": {
  "kernelspec": {
   "display_name": "Python 3 (ipykernel)",
   "language": "python",
   "name": "python3"
  },
  "language_info": {
   "codemirror_mode": {
    "name": "ipython",
    "version": 3
   },
   "file_extension": ".py",
   "mimetype": "text/x-python",
   "name": "python",
   "nbconvert_exporter": "python",
   "pygments_lexer": "ipython3",
   "version": "3.11.7"
  }
 },
 "nbformat": 4,
 "nbformat_minor": 5
}
